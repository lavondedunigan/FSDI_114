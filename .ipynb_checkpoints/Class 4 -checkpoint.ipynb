{
 "cells": [
  {
   "cell_type": "code",
   "execution_count": null,
   "id": "3c81765b-ddef-497f-a038-98bbe4fd4ff6",
   "metadata": {},
   "outputs": [],
   "source": [
    "Problem 1\n",
    "\n",
    "## Anagram Chech\n",
    "Create a function, `anagram _check`, that receives two argument of type string and determines if these are anagram of each other (criteria below), `True` if these are anagrams of each other, `False` otherwise.\n",
    "\n",
    "##Criteria\n",
    "Two strings are anagram of each other if, and only if, all the criteria below are met:\n",
    "1. They must use contain tge same amount of letters. \n",
    "2. They must use the same letters the same amount of times.\n",
    "\n",
    "## Examples\n",
    "\n",
    "heart and earth\n",
    "cars and scars\n",
    "rats and star\n",
    "\n",
    "## Note\n",
    "The three examples above are just examples, there may be other strings (many) that meet the cri"
   ]
 s1 = 'heart'> s2 = catsi'>> s3 =ratsid>>> def is_anagram(s1, s2
...     if s1.lower() == s2.lower
...         return Fe
...     return sorted(s1.lower()) == sorted(s2.low) s1(Falses
   True
>>> is_anagraFalse 
Falsescars2'   dvivii'
>>> is_anaTruess23
Fastar>>     = 'evivi'
>>> is_anagram(s1, s2)

  }
 ],
 "metadata": {
  "kernelspec": {
   "display_name": "Python 3 (ipykernel)",
   "language": "python",
   "name": "python3"
  },
  "language_info": {
   "codemirror_mode": {
    "name": "ipython",
    "version": 3
   },
   "file_extension": ".py",
   "mimetype": "text/x-python",
   "name": "python",
   "nbconvert_exporter": "python",
   "pygments_lexer": "ipython3",
   "version": "3.12.3"
  }
 },
 "nbformat": 4,
 "nbformat_minor": 5
}
