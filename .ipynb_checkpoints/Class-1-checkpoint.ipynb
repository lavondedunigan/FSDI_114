{
 "cells": [
  {
   "cell_type": "code",
   "execution_count": 1,
   "id": "5b1ab8fa-177d-434d-a3d3-7aa2602d46ef",
   "metadata": {},
   "outputs": [
    {
     "name": "stdout",
     "output_type": "stream",
     "text": [
      "Hello Lavonda\n"
     ]
    }
   ],
   "source": [
    "print(\"Hello Lavonda\")"
   ]
  },
  {
   "cell_type": "code",
   "execution_count": 8,
   "id": "0b875c59-8d16-453f-a776-e49d1da48a6b",
   "metadata": {},
   "outputs": [],
   "source": [
    " class Stack:\n",
    "    def __init__(self):\n",
    "        self.items = []  # This is a python list\n",
    "\n",
    "    def push(self, value): \n",
    "        self.items.append(value)\n",
    "     \n",
    "    def pop(self):\n",
    "        return self.items.pop()\n",
    "    \n",
    "     # Nice to have methods:\n",
    "    def peek(self):\n",
    "        return self.items[len(self.items)-1]\n",
    "        \n",
    "    def is_empty(self):\n",
    "        return self.items == []\n",
    "    \n",
    "    def size(self):\n",
    "        return len(self.items)"
   ]
  },
  {
   "cell_type": "markdown",
   "id": "1bc0f4fd-b006-44e2-82ed-5a0e16358ff9",
   "metadata": {},
   "source": [
    "# Problem 1\n",
    "\n",
    "Create a function called 'invert_str' that receives a string as a parameter and returns it in inverted order as a result.\n",
    "\n",
    "## Examples\n",
    "\n",
    "rafael-> leadar\n",
    "earth -> htrae\n",
    "hello -> olleh\n",
    "world -> dlrow\n",
    "\n",
    "Acceptance Criteria\n",
    " 1. Your final solution absolutely must make use of the stack class above.\n",
    " 2. You should, at a minimum, be able to present a design for your solution (pseudocode recommended, but you can use flowcharts).\n"
   ]
  },
  {
   "cell_type": "code",
   "execution_count": 10,
   "id": "dc3eeb3f-417d-4d75-a3bd-3981cdbd09cd",
   "metadata": {},
   "outputs": [
    {
     "name": "stdout",
     "output_type": "stream",
     "text": [
      "stack size:  6\n"
     ]
    }
   ],
   "source": [
    "stack = Stack()\n",
    "\n",
    "for number in range(6):\n",
    "    stack.push(number)\n",
    "\n",
    "result = stack.size()\n",
    "print(\"stack size: \", result)\n"
   ]
  },
  {
   "cell_type": "code",
   "execution_count": null,
   "id": "975d3cc7-096f-42a8-9fe6-5cb3ce767e44",
   "metadata": {},
   "outputs": [],
   "source": []
  }
 ],
 "metadata": {
  "kernelspec": {
   "display_name": "Python 3 (ipykernel)",
   "language": "python",
   "name": "python3"
  },
  "language_info": {
   "codemirror_mode": {
    "name": "ipython",
    "version": 3
   },
   "file_extension": ".py",
   "mimetype": "text/x-python",
   "name": "python",
   "nbconvert_exporter": "python",
   "pygments_lexer": "ipython3",
   "version": "3.12.3"
  }
 },
 "nbformat": 4,
 "nbformat_minor": 5
}
