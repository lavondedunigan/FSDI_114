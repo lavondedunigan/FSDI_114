{
 "cells": [
  {
   "cell_type": "code",
   "execution_count": 1,
   "id": "a69aebb4-da6d-4a80-bef7-4d29bb3820a5",
   "metadata": {},
   "outputs": [
    {
     "ename": "SyntaxError",
     "evalue": "invalid syntax (2470617675.py, line 1)",
     "output_type": "error",
     "traceback": [
      "  \u001b[36mCell\u001b[39m\u001b[36m \u001b[39m\u001b[32mIn[1]\u001b[39m\u001b[32m, line 1\u001b[39m\n\u001b[31m    \u001b[39m\u001b[31mLinked Lists\u001b[39m\n           ^\n\u001b[31mSyntaxError\u001b[39m\u001b[31m:\u001b[39m invalid syntax\n"
     ]
    }
   ],
   "source": [
    "Linked Lists\n",
    "These are the varieties of Linked Lists when it comes to data structure.\n",
    "\n",
    "These are:\n",
    "\n",
    "1. Singly linked lists or uni-directional lists.\n",
    "2. Doubly linked lists or bi-directional lists.\n"
   ]
  },
  {
   "cell_type": "code",
   "execution_count": 1,
   "id": "7e754294-f2c1-41ac-97aa-5cdbe9f47c94",
   "metadata": {},
   "outputs": [
    {
     "ename": "SyntaxError",
     "evalue": "invalid syntax (978981010.py, line 41)",
     "output_type": "error",
     "traceback": [
      "  \u001b[36mCell\u001b[39m\u001b[36m \u001b[39m\u001b[32mIn[1]\u001b[39m\u001b[32m, line 41\u001b[39m\n\u001b[31m    \u001b[39m\u001b[31mout += \"%s\" current.datum\u001b[39m\n                ^\n\u001b[31mSyntaxError\u001b[39m\u001b[31m:\u001b[39m invalid syntax\n"
     ]
    }
   ],
   "source": [
    "# From scratch implementation of SinglyLinkedList\n",
    "\n",
    "class SinglyLinkedList:\n",
    "    class __Node:\n",
    "        def __init__(self, datum):\n",
    "            self.datam = datum\n",
    "            self.next = None\n",
    "\n",
    "    def __init__(self):\n",
    "        self.head = None\n",
    "        self.tail = None\n",
    "        self.count = 0\n",
    "\n",
    "    def append(self, value):\n",
    "        new_mode = self.__Node(value)\n",
    "        self.count += 1\n",
    "        if not self.head:\n",
    "            self.head = new_node\n",
    "            self.tail = new_node\n",
    "        else:\n",
    "            self.tail.next = new_node\n",
    "            self.tail = new_node\n",
    "\n",
    "    def insert(self, index, value):\n",
    "        # This method inserts  a new node with \"value\" BEFORE the given \"index\".\n",
    "        new_node = Node\n",
    "        new_node.next = self.node\n",
    "           self.node = new.node\n",
    "\n",
    "    def remove(self, value):\n",
    "        current = self .head\n",
    "        found = False\n",
    "        prev = Non\n",
    "        while current.next and not found:\n",
    "        node = self.node\n",
    "        while node.next is not = None:\n",
    "            if current.datum no value:\n",
    "                found = True\n",
    "        if node.next is None:\n",
    "            print(\"Node doesn't exist)\n",
    "        else:\n",
    "            prev = current\n",
    "            current = current.next\n",
    "        if found:\n",
    "            if not prev:\n",
    "                self.head = self.head .next\n",
    "          \n",
    "        \n",
    "    def index(self, value):\n",
    "        if index == 1:\n",
    "            new_node = Node\n",
    "            new_node.next = self.start_node:\n",
    "            self.start_node = new_node\n",
    "        i=1\n",
    "        node = self.start.node\n",
    "        while i < (index -1) and node:\n",
    "            node = node.next\n",
    "            i += 1\n",
    "        if node is None:\n",
    "            print(\"Index out of bound\")\n",
    "        else new_node = Node\n",
    "        new_node.next = node.next\n",
    "        node.next = new node\n",
    "        \n",
    "    def __str__(self):\n",
    "        out = \"[\"\n",
    "        current = self.head\n",
    "        if current:\n",
    "            out += \"%s\" current.datum\n",
    "            current = current.next\n",
    "            while current                              # while current is not equal to None\n",
    "                out += \", %s\" % current.datum\n",
    "                current - current.next\n",
    "\n",
    "        out += \"]\"\n",
    "        return out\n",
    "\n",
    "    def __len__(self):\n",
    "        # This method should return the total number of Nodes in the list.\n",
    "\n",
    "        \n",
    "            "
   ]
  },
  {
   "cell_type": "code",
   "execution_count": 3,
   "id": "be82f82b-ead6-479e-8b98-ff537dd5a58f",
   "metadata": {},
   "outputs": [
    {
     "ename": "NameError",
     "evalue": "name 'SinglyLinkedList' is not defined",
     "output_type": "error",
     "traceback": [
      "\u001b[31m---------------------------------------------------------------------------\u001b[39m",
      "\u001b[31mNameError\u001b[39m                                 Traceback (most recent call last)",
      "\u001b[36mCell\u001b[39m\u001b[36m \u001b[39m\u001b[32mIn[3]\u001b[39m\u001b[32m, line 1\u001b[39m\n\u001b[32m----> \u001b[39m\u001b[32m1\u001b[39m sll = \u001b[43mSinglyLinkedList\u001b[49m()\n\u001b[32m      3\u001b[39m \u001b[38;5;28mprint\u001b[39m(sll)\n\u001b[32m      5\u001b[39m sll.append(\u001b[32m1\u001b[39m)\n",
      "\u001b[31mNameError\u001b[39m: name 'SinglyLinkedList' is not defined"
     ]
    }
   ],
   "source": [
    "sll = SinglyLinkedList()\n",
    "\n",
    "print(sll)\n",
    "\n",
    "sll.append(1)\n",
    "print(sll)\n",
    "\n",
    "sll.append(2)\n",
    "print(sll)\n"
   ]
  },
  {
   "cell_type": "code",
   "execution_count": null,
   "id": "f2d0befc-3dbb-4cb1-9385-8a4ad2f5294b",
   "metadata": {},
   "outputs": [],
   "source": []
  }
 ],
 "metadata": {
  "kernelspec": {
   "display_name": "Python 3 (ipykernel)",
   "language": "python",
   "name": "python3"
  },
  "language_info": {
   "codemirror_mode": {
    "name": "ipython",
    "version": 3
   },
   "file_extension": ".py",
   "mimetype": "text/x-python",
   "name": "python",
   "nbconvert_exporter": "python",
   "pygments_lexer": "ipython3",
   "version": "3.12.3"
  }
 },
 "nbformat": 4,
 "nbformat_minor": 5
}
