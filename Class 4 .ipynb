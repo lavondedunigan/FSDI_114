{
 "cells": [
  {
   "cell_type": "markdown",
   "id": "c07b3b7e",
   "metadata": {},
   "source": [
    "Problem 1\n",
    "\n",
    "## Anagram Check\n",
    "Create a function, `anagram_check`, that receives two arguments of type string and determines if these are anagrams of each other (criteria below), `True` if these are anagrams of each other, `False` otherwise.\n",
    "\n",
    "## Criteria\n",
    "Two strings are anagrams of each other if, and only if, all the criteria below are met:\n",
    "1. They must contain the same amount of letters.\n",
    "2. They must use the same letters the same amount of times.\n",
    "\n",
    "## Examples\n",
    "\n",
    "heart and earth\n",
    "cars and scars\n",
    "rats and star\n",
    "\n",
    "## Note\n",
    "The three examples above are just examples, there may be other strings (many) that meet the criteria above."
   ]
  },
  {
   "cell_type": "markdown",
   "id": "117607ce",
   "metadata": {},
   "source": [
    "# Pseudocode version\n",
    "\n",
    "Define function `anagram_check` with params `string1` and `string2`:\n",
    "1. `string1` = `string1` without spaces in lower case\n",
    "2. `string2` = `string2` without spaces in lower case\n",
    "3. If the length of `string1` is not equal to the length of `string2`, return `False`\n",
    "4. Otherwise:\n",
    "   - Create two dictionaries `d1` and `d2`\n",
    "   - For each character in `string1`:\n",
    "     - If the character is not in `d1`, add it as a key and set its value to 1\n",
    "     - Otherwise, increment the value associated with the character in `d1`\n",
    "   - For each character in `string2`:\n",
    "     - If the character is not in `d2`, add it as a key and set its value to 1\n",
    "     - Otherwise, increment the value associated with the character in `d2`\n",
    "   - If `d1` is equal to `d2`, return `True`\n",
    "   - Otherwise, return `False`"
   ]
  },
  {
   "cell_type": "code",
   "execution_count": 1,
   "id": "3c81765b-ddef-497f-a038-98bbe4fd4ff6",
   "metadata": {},
   "outputs": [
    {
     "name": "stdout",
     "output_type": "stream",
     "text": [
      "True\n",
      "False\n",
      "True\n",
      "False\n"
     ]
    }
   ],
   "source": [
    "from collections import Counter\n",
    "\n",
    "def anagram_check(string1, string2):\n",
    "    # Remove spaces and convert to lowercase\n",
    "    string1 = string1.replace(\" \", \"\").lower()\n",
    "    string2 = string2.replace(\" \", \"\").lower()\n",
    "    \n",
    "    # Compare character counts\n",
    "    return Counter(string1) == Counter(string2)\n",
    "\n",
    "# Test cases\n",
    "print(anagram_check(\"heart\", \"earth\"))  # True\n",
    "print(anagram_check(\"cars\", \"scars\"))   # False\n",
    "print(anagram_check(\"rats\", \"star\"))    # True\n",
    "print(anagram_check(\"hello\", \"world\"))  # False"
   ]
  },
  {
   "cell_type": "code",
   "execution_count": 2,
   "id": "a3564401-c57f-4773-a9b7-064491c0f854",
   "metadata": {},
   "outputs": [
    {
     "ename": "SyntaxError",
     "evalue": "invalid syntax (238676674.py, line 5)",
     "output_type": "error",
     "traceback": [
      "  \u001b[36mCell\u001b[39m\u001b[36m \u001b[39m\u001b[32mIn[2]\u001b[39m\u001b[32m, line 5\u001b[39m\n\u001b[31m    \u001b[39m\u001b[31mCreate a function, `anagram_check`, that receives two arguments of type string and determines if these are anagrams of each other (criteria below), returning `True` if these are anagram of each other, `False` otherwise.\u001b[39m\n           ^\n\u001b[31mSyntaxError\u001b[39m\u001b[31m:\u001b[39m invalid syntax\n"
     ]
    }
   ],
   "source": [
    "# Problem 1\n",
    "\n",
    "\n",
    "## Anagram Check\n",
    "Create a function, 'anagram_check', that receives two arguments of type string and determines if these are anagrams of each other (criteria below), returning 'True' if these are anagrams of each other, 'False' otherwise.\n",
    "\n",
    "## Criteria \n",
    "Two strings are anagrams of each other if, and only if, all the criteria below are met:\n",
    "1. They must use contain the same amount of letters.\n",
    "2. They must use the same letters the same amount of times.\n",
    "\n",
    "## Examples\n",
    "\n",
    "heart and earth\n",
    "cars and scar\n",
    "rats and star\n",
    "\n",
    "\n",
    "## Note\n",
    "The three examples above are just examples, there may be other strings (many) that meet the criteria above."
   ]
  },
  {
   "cell_type": "code",
   "execution_count": 3,
   "id": "7d0ae465-e9d1-46dc-a706-5c81e823af6c",
   "metadata": {},
   "outputs": [
    {
     "data": {
      "text/plain": [
       "True"
      ]
     },
     "execution_count": 3,
     "metadata": {},
     "output_type": "execute_result"
    }
   ],
   "source": [
    "anagram_check(\"earth\", \"heart\")"
   ]
  },
  {
   "cell_type": "code",
   "execution_count": 4,
   "id": "af73404e-5e43-4a21-b4bd-de9a0e8e222c",
   "metadata": {},
   "outputs": [
    {
     "data": {
      "text/plain": [
       "'a'"
      ]
     },
     "execution_count": 4,
     "metadata": {},
     "output_type": "execute_result"
    }
   ],
   "source": [
    "chr(ord(\"A\")+32)"
   ]
  },
  {
   "cell_type": "code",
   "execution_count": null,
   "id": "4b8e011e-a103-41c8-ab29-0a7324d3e391",
   "metadata": {},
   "outputs": [],
   "source": []
  }
 ],
 "metadata": {
  "kernelspec": {
   "display_name": "Python 3 (ipykernel)",
   "language": "python",
   "name": "python3"
  },
  "language_info": {
   "codemirror_mode": {
    "name": "ipython",
    "version": 3
   },
   "file_extension": ".py",
   "mimetype": "text/x-python",
   "name": "python",
   "nbconvert_exporter": "python",
   "pygments_lexer": "ipython3",
   "version": "3.12.3"
  }
 },
 "nbformat": 4,
 "nbformat_minor": 5
}
